{
 "cells": [
  {
   "cell_type": "markdown",
   "id": "6ebdc275",
   "metadata": {},
   "source": [
    "# **Week 2: Classifier**\n",
    "\n",
    "### **TAs: Chiku Parida (chipa@dtu.dk), Dr. Dipendu Roy (dipro@dtu.dk)**\n",
    "\n",
    "## **Objectives:**\n",
    "- Understand the concept of classification.\n",
    "- Implement a simple classification model using Python.\n",
    "- Evaluate the performance of the classification model.\n",
    "\n",
    "Dataset: The dataset is a CSV file containing heat treatment of steels."
   ]
  },
  {
   "cell_type": "code",
   "execution_count": null,
   "id": "7745502b",
   "metadata": {},
   "outputs": [],
   "source": [
    "# Import required libraries\n",
    "import pandas as pd\n",
    "import numpy as np\n",
    "from sklearn.ensemble import RandomForestClassifier"
   ]
  },
  {
   "cell_type": "code",
   "execution_count": null,
   "id": "386b46f8",
   "metadata": {},
   "outputs": [],
   "source": [
    "# Read the CSV file into a pandas DataFrame\n",
    "df = pd.read_csv('path/to/data_classification.csv')\n",
    "print(df.head())\n",
    "print(df.info())"
   ]
  },
  {
   "cell_type": "markdown",
   "id": "45263e1f",
   "metadata": {},
   "source": [
    "### Preparing and cleaning data"
   ]
  },
  {
   "cell_type": "code",
   "execution_count": null,
   "id": "08ad7ed2",
   "metadata": {},
   "outputs": [],
   "source": [
    "# Merge the first three columns using string concatenation\n",
    "df['Material'] = df[['Std', 'Material', 'Heat treatment']].fillna('').agg(' '.join, axis=1)"
   ]
  },
  {
   "cell_type": "code",
   "execution_count": null,
   "id": "69187324",
   "metadata": {},
   "outputs": [],
   "source": [
    "# Remove any string values from Sy column\n",
    "df['Sy'] = df['Sy'].str.replace(' max', '').astype(int)"
   ]
  },
  {
   "cell_type": "code",
   "execution_count": null,
   "id": "5a7332b7",
   "metadata": {},
   "outputs": [],
   "source": [
    "# Drop the unnecessary columns\n",
    "df.drop(['Std','ID', 'Heat treatment','A5','Bhn','pH','Desc','HV'], axis=1, inplace=True)\n",
    "df.head(4)"
   ]
  },
  {
   "cell_type": "code",
   "execution_count": null,
   "id": "dab0d21f",
   "metadata": {},
   "outputs": [],
   "source": [
    "import matplotlib.pyplot as plt\n",
    "\n",
    "# Select columns to plot\n",
    "columns_to_plot = ['Su', 'Sy', 'E', 'G', 'mu', 'Ro']\n",
    "\n",
    "# Sort each column and plot\n",
    "fig, axs = plt.subplots(len(columns_to_plot), 1, figsize=(10, 18))\n",
    "for i, col in enumerate(columns_to_plot):\n",
    "    sorted_values = df[col].sort_values(ascending=True).reset_index(drop=True)\n",
    "    axs[i].plot(sorted_values)\n",
    "    axs[i].set_title(f'{col} (ascending)')\n",
    "    axs[i].set_ylabel(col)\n",
    "    axs[i].set_xlabel('Index')\n",
    "\n",
    "plt.tight_layout()\n",
    "plt.show()"
   ]
  },
  {
   "cell_type": "markdown",
   "id": "aeb713ac",
   "metadata": {},
   "source": [
    "## Lets Create a multi-class target"
   ]
  },
  {
   "cell_type": "code",
   "execution_count": null,
   "id": "cbf3163b",
   "metadata": {},
   "outputs": [],
   "source": [
    "# Define the rating function\n",
    "def get_rating(row):\n",
    "    if (438.3 <= row['Su'] <= 535.7 and\n",
    "        318.6 <= row['Sy'] <= 389.4 and\n",
    "        204930 <= row['E'] <= 209070 and\n",
    "        71100 <= row['G'] <= 86900 and\n",
    "        0.285 <= row['mu'] <= 0.315 and\n",
    "            7467 <= row['Ro'] <= 8253):\n",
    "        return 5\n",
    "    elif (389.6 <= row['Su'] <= 584.4 and\n",
    "          283.2 <= row['Sy'] <= 424.8 and\n",
    "          202860 <= row['E'] <= 211140 and\n",
    "          63200 <= row['G'] <= 94800 and\n",
    "          0.27 <= row['mu'] <= 0.33 and\n",
    "          7074 <= row['Ro'] <= 8646):\n",
    "        return 4\n",
    "    elif (340.9 <= row['Su'] <= 633.1 and\n",
    "          247.8 <= row['Sy'] <= 460.2 and\n",
    "          200790 <= row['E'] <= 213210 and\n",
    "          55300 <= row['G'] <= 102700 and\n",
    "          0.255 <= row['mu'] <= 0.345 and\n",
    "          6681 <= row['Ro'] <= 9039):\n",
    "        return 3\n",
    "    elif (292.2 <= row['Su'] <= 681.8 and\n",
    "          212.4 <= row['Sy'] <= 495.6 and\n",
    "          198720 <= row['E'] <= 215280 and\n",
    "          47400 <= row['G'] <= 110600 and\n",
    "          0.24 <= row['mu'] <= 0.36 and\n",
    "          6288 <= row['Ro'] <= 9432):\n",
    "        return 2\n",
    "    else:\n",
    "        return 1\n"
   ]
  },
  {
   "cell_type": "code",
   "execution_count": null,
   "id": "1b3f24d1",
   "metadata": {},
   "outputs": [],
   "source": [
    "# Calculate the rating for each row\n",
    "df['rating'] = df.apply(get_rating, axis=1)\n",
    "df.head(4)"
   ]
  },
  {
   "cell_type": "code",
   "execution_count": null,
   "id": "3ff433d6",
   "metadata": {},
   "outputs": [],
   "source": [
    "# # Save the results to a new file data.csv\n",
    "# df.to_csv('data.csv', index=False)\n",
    "\n",
    "# Separate the features and label columns\n",
    "X = df.iloc[:, 1:-1].values\n",
    "y = df.iloc[:, -1].values"
   ]
  },
  {
   "cell_type": "code",
   "execution_count": null,
   "id": "68d3cfd0",
   "metadata": {},
   "outputs": [],
   "source": [
    "# Train a random forest classifier with 100 trees\n",
    "rf = RandomForestClassifier(n_estimators=100, random_state=42)\n",
    "rf.fit(X, y)"
   ]
  },
  {
   "cell_type": "code",
   "execution_count": null,
   "id": "eb500a0a",
   "metadata": {},
   "outputs": [],
   "source": [
    "# Predict the rating of a new material\n",
    "new_material = np.array([560, 389, 207000, 79000, 0.35, 7860]).reshape(1, -1)\n",
    "new_rating = rf.predict(new_material)\n",
    "print(\"Predicted rating of the new material:\", new_rating)"
   ]
  },
  {
   "cell_type": "markdown",
   "id": "d2f8af48",
   "metadata": {},
   "source": [
    "## Questions:\n",
    "\n",
    "- **What are hyperparameters in RandomForestClassifier, and which ones are most important to tune?**\n",
    "\n",
    "- **How does changing `n_estimators` affect model accuracy and overfitting?**\n",
    "\n",
    "- **What is the impact of `max_depth` on bias and variance in the classifier?**\n",
    "\n",
    "- **How can you use cross-validation to evaluate the performance of different hyperparameter settings?**\n",
    "\n",
    "- **Which metrics (e.g., accuracy, precision, recall, F1-score) are most appropriate for evaluating this classification problem?**\n",
    "\n",
    "- **How do you interpret the feature importances provided by the trained RandomForestClassifier?**\n",
    "\n",
    "- **What strategies can be used to prevent overfitting when tuning hyperparameters?**\n",
    "\n",
    "- **How does the choice of `max_features` influence the diversity and performance of the trees in the forest?**\n",
    "\n",
    "- **How do you analyze the confusion matrix and classification report to identify model weaknesses?**"
   ]
  },
  {
   "cell_type": "markdown",
   "id": "8f03713b",
   "metadata": {},
   "source": [
    "## Now its time try some other regressors we studied during the morning session.\n",
    "\n",
    "1. [Decision Tree Classifier](https://scikit-learn.org/stable/modules/generated/sklearn.tree.DecisionTreeClassifier.html)\n",
    "2. [Gradient Boosting Classifier](https://scikit-learn.org/stable/modules/generated/sklearn.ensemble.GradientBoostingClassifier.html)\n",
    "3. [Extreme Gradient Boosting Classifier](https://xgboost.readthedocs.io/en/stable/python/python_api.html#xgboost.XGBClassifier)\n",
    "4. [AdaBoost Classifier](https://scikit-learn.org/stable/modules/generated/sklearn.ensemble.AdaBoostClassifier.html)"
   ]
  }
 ],
 "metadata": {
  "kernelspec": {
   "display_name": "cp3",
   "language": "python",
   "name": "python3"
  },
  "language_info": {
   "codemirror_mode": {
    "name": "ipython",
    "version": 3
   },
   "file_extension": ".py",
   "mimetype": "text/x-python",
   "name": "python",
   "nbconvert_exporter": "python",
   "pygments_lexer": "ipython3",
   "version": "3.12.11"
  }
 },
 "nbformat": 4,
 "nbformat_minor": 5
}
